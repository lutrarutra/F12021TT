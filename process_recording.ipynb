{
 "cells": [
  {
   "cell_type": "code",
   "execution_count": 1,
   "metadata": {},
   "outputs": [],
   "source": [
    "from process_recording import *\n",
    "\n",
    "from matplotlib import pyplot as plt"
   ]
  },
  {
   "cell_type": "code",
   "execution_count": 2,
   "metadata": {},
   "outputs": [
    {
     "name": "stderr",
     "output_type": "stream",
     "text": [
      "100%|██████████| 200/200 [00:01<00:00, 135.87it/s]\n"
     ]
    }
   ],
   "source": [
    "test_crop(\"./data/bahrain.mkv\")"
   ]
  },
  {
   "cell_type": "code",
   "execution_count": 23,
   "metadata": {},
   "outputs": [
    {
     "name": "stderr",
     "output_type": "stream",
     "text": [
      "  0%|          | 278/190298 [00:08<1:36:29, 32.82it/s, time=1:13.307, date_text=11/5/2022]  \n"
     ]
    },
    {
     "ename": "KeyboardInterrupt",
     "evalue": "",
     "output_type": "error",
     "traceback": [
      "\u001b[0;31m---------------------------------------------------------------------------\u001b[0m",
      "\u001b[0;31mKeyboardInterrupt\u001b[0m                         Traceback (most recent call last)",
      "\u001b[1;32m/home/lutrarutra/Documents/dev/F12021TT/process_recording.ipynb Cell 3'\u001b[0m in \u001b[0;36m<cell line: 1>\u001b[0;34m()\u001b[0m\n\u001b[0;32m----> <a href='vscode-notebook-cell:/home/lutrarutra/Documents/dev/F12021TT/process_recording.ipynb#ch0000004?line=0'>1</a>\u001b[0m process_video(\u001b[39m\"\u001b[39;49m\u001b[39m./data/imola.mkv\u001b[39;49m\u001b[39m\"\u001b[39;49m, \u001b[39m\"\u001b[39;49m\u001b[39m./data/imola.csv\u001b[39;49m\u001b[39m\"\u001b[39;49m, \u001b[39m6\u001b[39;49m)\n",
      "File \u001b[0;32m~/Documents/dev/F12021TT/process_recording.py:168\u001b[0m, in \u001b[0;36mprocess_video\u001b[0;34m(filename, output, cores)\u001b[0m\n\u001b[1;32m    <a href='file:///home/lutrarutra/Documents/dev/F12021TT/process_recording.py?line=165'>166</a>\u001b[0m \u001b[39mwith\u001b[39;00m concurrent\u001b[39m.\u001b[39mfutures\u001b[39m.\u001b[39mProcessPoolExecutor(max_workers\u001b[39m=\u001b[39mcores) \u001b[39mas\u001b[39;00m exec:\n\u001b[1;32m    <a href='file:///home/lutrarutra/Documents/dev/F12021TT/process_recording.py?line=166'>167</a>\u001b[0m     future_to_img \u001b[39m=\u001b[39m {exec\u001b[39m.\u001b[39msubmit(process_text, args[\u001b[39m0\u001b[39m], args[\u001b[39m1\u001b[39m], args[\u001b[39m2\u001b[39m], args[\u001b[39m3\u001b[39m]): args \u001b[39mfor\u001b[39;00m args \u001b[39min\u001b[39;00m imgs}\n\u001b[0;32m--> <a href='file:///home/lutrarutra/Documents/dev/F12021TT/process_recording.py?line=167'>168</a>\u001b[0m     \u001b[39mfor\u001b[39;00m future \u001b[39min\u001b[39;00m concurrent\u001b[39m.\u001b[39mfutures\u001b[39m.\u001b[39mas_completed(future_to_img):\n\u001b[1;32m    <a href='file:///home/lutrarutra/Documents/dev/F12021TT/process_recording.py?line=168'>169</a>\u001b[0m         img \u001b[39m=\u001b[39m future_to_img[future]\n\u001b[1;32m    <a href='file:///home/lutrarutra/Documents/dev/F12021TT/process_recording.py?line=169'>170</a>\u001b[0m         \u001b[39mtry\u001b[39;00m:\n",
      "File \u001b[0;32m~/mambaforge/envs/f1/lib/python3.8/concurrent/futures/_base.py:244\u001b[0m, in \u001b[0;36mas_completed\u001b[0;34m(fs, timeout)\u001b[0m\n\u001b[1;32m    <a href='file:///home/lutrarutra/mambaforge/envs/f1/lib/python3.8/concurrent/futures/_base.py?line=238'>239</a>\u001b[0m     \u001b[39mif\u001b[39;00m wait_timeout \u001b[39m<\u001b[39m \u001b[39m0\u001b[39m:\n\u001b[1;32m    <a href='file:///home/lutrarutra/mambaforge/envs/f1/lib/python3.8/concurrent/futures/_base.py?line=239'>240</a>\u001b[0m         \u001b[39mraise\u001b[39;00m \u001b[39mTimeoutError\u001b[39;00m(\n\u001b[1;32m    <a href='file:///home/lutrarutra/mambaforge/envs/f1/lib/python3.8/concurrent/futures/_base.py?line=240'>241</a>\u001b[0m                 \u001b[39m'\u001b[39m\u001b[39m%d\u001b[39;00m\u001b[39m (of \u001b[39m\u001b[39m%d\u001b[39;00m\u001b[39m) futures unfinished\u001b[39m\u001b[39m'\u001b[39m \u001b[39m%\u001b[39m (\n\u001b[1;32m    <a href='file:///home/lutrarutra/mambaforge/envs/f1/lib/python3.8/concurrent/futures/_base.py?line=241'>242</a>\u001b[0m                 \u001b[39mlen\u001b[39m(pending), total_futures))\n\u001b[0;32m--> <a href='file:///home/lutrarutra/mambaforge/envs/f1/lib/python3.8/concurrent/futures/_base.py?line=243'>244</a>\u001b[0m waiter\u001b[39m.\u001b[39;49mevent\u001b[39m.\u001b[39;49mwait(wait_timeout)\n\u001b[1;32m    <a href='file:///home/lutrarutra/mambaforge/envs/f1/lib/python3.8/concurrent/futures/_base.py?line=245'>246</a>\u001b[0m \u001b[39mwith\u001b[39;00m waiter\u001b[39m.\u001b[39mlock:\n\u001b[1;32m    <a href='file:///home/lutrarutra/mambaforge/envs/f1/lib/python3.8/concurrent/futures/_base.py?line=246'>247</a>\u001b[0m     finished \u001b[39m=\u001b[39m waiter\u001b[39m.\u001b[39mfinished_futures\n",
      "File \u001b[0;32m~/mambaforge/envs/f1/lib/python3.8/threading.py:558\u001b[0m, in \u001b[0;36mEvent.wait\u001b[0;34m(self, timeout)\u001b[0m\n\u001b[1;32m    <a href='file:///home/lutrarutra/mambaforge/envs/f1/lib/python3.8/threading.py?line=555'>556</a>\u001b[0m signaled \u001b[39m=\u001b[39m \u001b[39mself\u001b[39m\u001b[39m.\u001b[39m_flag\n\u001b[1;32m    <a href='file:///home/lutrarutra/mambaforge/envs/f1/lib/python3.8/threading.py?line=556'>557</a>\u001b[0m \u001b[39mif\u001b[39;00m \u001b[39mnot\u001b[39;00m signaled:\n\u001b[0;32m--> <a href='file:///home/lutrarutra/mambaforge/envs/f1/lib/python3.8/threading.py?line=557'>558</a>\u001b[0m     signaled \u001b[39m=\u001b[39m \u001b[39mself\u001b[39;49m\u001b[39m.\u001b[39;49m_cond\u001b[39m.\u001b[39;49mwait(timeout)\n\u001b[1;32m    <a href='file:///home/lutrarutra/mambaforge/envs/f1/lib/python3.8/threading.py?line=558'>559</a>\u001b[0m \u001b[39mreturn\u001b[39;00m signaled\n",
      "File \u001b[0;32m~/mambaforge/envs/f1/lib/python3.8/threading.py:302\u001b[0m, in \u001b[0;36mCondition.wait\u001b[0;34m(self, timeout)\u001b[0m\n\u001b[1;32m    <a href='file:///home/lutrarutra/mambaforge/envs/f1/lib/python3.8/threading.py?line=299'>300</a>\u001b[0m \u001b[39mtry\u001b[39;00m:    \u001b[39m# restore state no matter what (e.g., KeyboardInterrupt)\u001b[39;00m\n\u001b[1;32m    <a href='file:///home/lutrarutra/mambaforge/envs/f1/lib/python3.8/threading.py?line=300'>301</a>\u001b[0m     \u001b[39mif\u001b[39;00m timeout \u001b[39mis\u001b[39;00m \u001b[39mNone\u001b[39;00m:\n\u001b[0;32m--> <a href='file:///home/lutrarutra/mambaforge/envs/f1/lib/python3.8/threading.py?line=301'>302</a>\u001b[0m         waiter\u001b[39m.\u001b[39;49macquire()\n\u001b[1;32m    <a href='file:///home/lutrarutra/mambaforge/envs/f1/lib/python3.8/threading.py?line=302'>303</a>\u001b[0m         gotit \u001b[39m=\u001b[39m \u001b[39mTrue\u001b[39;00m\n\u001b[1;32m    <a href='file:///home/lutrarutra/mambaforge/envs/f1/lib/python3.8/threading.py?line=303'>304</a>\u001b[0m     \u001b[39melse\u001b[39;00m:\n",
      "\u001b[0;31mKeyboardInterrupt\u001b[0m: "
     ]
    }
   ],
   "source": [
    "process_video(\"./data/imola.mkv\", \"./data/imola.csv\", 6)"
   ]
  },
  {
   "cell_type": "code",
   "execution_count": null,
   "metadata": {},
   "outputs": [],
   "source": []
  }
 ],
 "metadata": {
  "interpreter": {
   "hash": "14804da69710a2ba9d655237aee07f944ee9aa91a5a90497b176039502299154"
  },
  "kernelspec": {
   "display_name": "Python 3.8.13 ('f1')",
   "language": "python",
   "name": "python3"
  },
  "language_info": {
   "codemirror_mode": {
    "name": "ipython",
    "version": 3
   },
   "file_extension": ".py",
   "mimetype": "text/x-python",
   "name": "python",
   "nbconvert_exporter": "python",
   "pygments_lexer": "ipython3",
   "version": "3.8.13"
  },
  "orig_nbformat": 4
 },
 "nbformat": 4,
 "nbformat_minor": 2
}
